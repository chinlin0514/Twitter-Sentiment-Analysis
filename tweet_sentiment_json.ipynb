{
  "nbformat": 4,
  "nbformat_minor": 0,
  "metadata": {
    "colab": {
      "name": "tweet_sentiment_json.ipynb",
      "provenance": []
    },
    "kernelspec": {
      "display_name": "Python 3",
      "name": "python3"
    },
    "language_info": {
      "name": "python"
    }
  },
  "cells": [
    {
      "cell_type": "code",
      "metadata": {
        "colab": {
          "base_uri": "https://localhost:8080/"
        },
        "id": "BicgGEUrO7lw",
        "outputId": "f8661914-6aab-4828-b7cc-a299a7ed20dc"
      },
      "source": [
        " !apt-get -y install openjdk-8-jre-headless\n",
        "!pip install pyspark\n",
        "from pyspark.sql import SparkSession\n",
        "from pyspark import SparkContext\n",
        "spark = SparkSession.builder.master(\"local\").getOrCreate()\n",
        "sc = SparkContext.getOrCreate()"
      ],
      "execution_count": null,
      "outputs": [
        {
          "output_type": "stream",
          "text": [
            "Reading package lists... Done\n",
            "Building dependency tree       \n",
            "Reading state information... Done\n",
            "openjdk-8-jre-headless is already the newest version (8u282-b08-0ubuntu1~18.04).\n",
            "0 upgraded, 0 newly installed, 0 to remove and 31 not upgraded.\n",
            "Requirement already satisfied: pyspark in /usr/local/lib/python3.7/dist-packages (3.1.1)\n",
            "Requirement already satisfied: py4j==0.10.9 in /usr/local/lib/python3.7/dist-packages (from pyspark) (0.10.9)\n"
          ],
          "name": "stdout"
        }
      ]
    },
    {
      "cell_type": "code",
      "metadata": {
        "id": "227Njf4V2MLg"
      },
      "source": [
        "from pyspark.sql.types import *\n",
        "from pyspark.sql.functions import *\n",
        "from pyspark.ml.classification import LogisticRegression\n",
        "from pyspark.ml.feature import HashingTF, Tokenizer, StopWordsRemover\n",
        "appName = \"Sentiment Analysis with Vaccine Tweets\"\n",
        "spark = SparkSession.builder.appName(appName).config(\"spark.some.config.option\", \"some-value\").getOrCreate()"
      ],
      "execution_count": null,
      "outputs": []
    },
    {
      "cell_type": "code",
      "metadata": {
        "colab": {
          "base_uri": "https://localhost:8080/"
        },
        "id": "RW5hKC_ePhNK",
        "outputId": "39952e89-63e8-4746-9ed9-1ff33cdba6b1"
      },
      "source": [
        "from google.colab import drive\n",
        "drive.mount('/content/drive')"
      ],
      "execution_count": null,
      "outputs": [
        {
          "output_type": "stream",
          "text": [
            "Drive already mounted at /content/drive; to attempt to forcibly remount, call drive.mount(\"/content/drive\", force_remount=True).\n"
          ],
          "name": "stdout"
        }
      ]
    },
    {
      "cell_type": "code",
      "metadata": {
        "id": "jSdrYbqBUeMm"
      },
      "source": [
        "#tweets = spark.read.json(\"/content/ans_twt.json\")\n",
        "tweets = spark.read.json(\"/content/drive/MyDrive/ans_twt1.json\")"
      ],
      "execution_count": null,
      "outputs": []
    },
    {
      "cell_type": "code",
      "metadata": {
        "id": "m12xm65gpRNc"
      },
      "source": [
        "x = spark.read.json(\"/content/drive/MyDrive/ans_twt1.json\")"
      ],
      "execution_count": null,
      "outputs": []
    },
    {
      "cell_type": "code",
      "metadata": {
        "id": "g7o8QgIDpS-4",
        "colab": {
          "base_uri": "https://localhost:8080/"
        },
        "outputId": "fe846c9e-eefe-44eb-bd0d-0e8e062dc881"
      },
      "source": [
        "print((x.count(), len(x.columns)))"
      ],
      "execution_count": null,
      "outputs": [
        {
          "output_type": "stream",
          "text": [
            "(277066, 38)\n"
          ],
          "name": "stdout"
        }
      ]
    },
    {
      "cell_type": "code",
      "metadata": {
        "id": "r6gxYeo9A5_8"
      },
      "source": [
        "tweets2 = spark.read.json(\"/content/drive/MyDrive/ans_twt5.json\")"
      ],
      "execution_count": null,
      "outputs": []
    },
    {
      "cell_type": "code",
      "metadata": {
        "id": "sR6hrH9bA9qr"
      },
      "source": [
        "x2 = spark.read.json(\"/content/drive/MyDrive/ans_twt5.json\")"
      ],
      "execution_count": null,
      "outputs": []
    },
    {
      "cell_type": "code",
      "metadata": {
        "colab": {
          "base_uri": "https://localhost:8080/"
        },
        "id": "uQp2Bh31BCgZ",
        "outputId": "fb071d17-a69a-47f2-bfab-dcdf5096469d"
      },
      "source": [
        "print((x2.count(), len(x2.columns)))"
      ],
      "execution_count": null,
      "outputs": [
        {
          "output_type": "stream",
          "text": [
            "(239140, 37)\n"
          ],
          "name": "stdout"
        }
      ]
    },
    {
      "cell_type": "code",
      "metadata": {
        "colab": {
          "base_uri": "https://localhost:8080/"
        },
        "id": "c82z-gqilj3t",
        "outputId": "04e44064-cd1a-4ddc-cb41-1753c71b3965"
      },
      "source": [
        "tweets.show(5)"
      ],
      "execution_count": null,
      "outputs": [
        {
          "output_type": "stream",
          "text": [
            "+------------+-----------+--------------------+------------------+--------------------+-----------------+--------------------+--------------+---------+------------+----+-------------------+-------------------+-----------------------+---------------------+-------------------------+-------------------+-----------------------+---------------+----+-----+-----+------------------+-----------+--------------------+-------------------+--------------------+-----------------------+-----------+-------------+---------+--------------------+--------------------+--------------------+-------------+---------+--------------------+---------------------+\n",
            "|contributors|coordinates|          created_at|display_text_range|            entities|extended_entities|      extended_tweet|favorite_count|favorited|filter_level| geo|                 id|             id_str|in_reply_to_screen_name|in_reply_to_status_id|in_reply_to_status_id_str|in_reply_to_user_id|in_reply_to_user_id_str|is_quote_status|lang|limit|place|possibly_sensitive|quote_count|       quoted_status|   quoted_status_id|quoted_status_id_str|quoted_status_permalink|reply_count|retweet_count|retweeted|    retweeted_status|              source|                text| timestamp_ms|truncated|                user|withheld_in_countries|\n",
            "+------------+-----------+--------------------+------------------+--------------------+-----------------+--------------------+--------------+---------+------------+----+-------------------+-------------------+-----------------------+---------------------+-------------------------+-------------------+-----------------------+---------------+----+-----+-----+------------------+-----------+--------------------+-------------------+--------------------+-----------------------+-----------+-------------+---------+--------------------+--------------------+--------------------+-------------+---------+--------------------+---------------------+\n",
            "|        null|       null|Fri Apr 16 14:40:...|              null|{[], null, [], []...|             null|                null|             0|    false|         low|null|1383067656266334212|1383067656266334212|                   null|                 null|                     null|               null|                   null|           true|  pt| null| null|              null|          0|{null, null, Fri ...|1383053607013134337| 1383053607013134337|   {twitter.com/Paul...|          0|            0|    false|{null, null, Fri ...|<a href=\"http://t...|RT @taoquei1: Ohh...|1618584000065|    false|{false, Sun Apr 1...|                 null|\n",
            "|        null|       null|Fri Apr 16 14:40:...|          [14, 84]|{[], null, [], []...|             null|                null|             0|    false|         low|null|1383067656367042569|1383067656367042569|           Medicina_CFM|  1383029656786501636|      1383029656786501636|           49677865|               49677865|          false|  pt| null| null|              null|          0|                null|               null|                null|                   null|          0|            0|    false|                null|<a href=\"http://t...|@Medicina_CFM CFM...|1618584000089|    false|{false, Tue Jun 3...|                 null|\n",
            "|        null|       null|Fri Apr 16 14:40:...|              null|{[], null, [], [{...|             null|{[0, 262], {[], n...|             0|    false|         low|null|1383067656295571456|1383067656295571456|                   null|                 null|                     null|               null|                   null|          false|  en| null| null|              null|          0|                null|               null|                null|                   null|          0|            0|    false|                null|<a href=\"https://...|1/2. A record 74,...|1618584000072|     true|{false, Mon Oct 1...|                 null|\n",
            "|        null|       null|Fri Apr 16 14:40:...|              null|{[], null, [], []...|             null|                null|             0|    false|         low|null|1383067656496975874|1383067656496975874|                   null|                 null|                     null|               null|                   null|          false| und| null| null|              null|          0|                null|               null|                null|                   null|          0|            0|    false|{null, null, Fri ...|<a href=\"http://t...|RT @Arvindharmapu...|1618584000120|    false|{false, Thu Jan 0...|                 null|\n",
            "|        null|       null|Fri Apr 16 14:40:...|              null|{[], null, [], [{...|             null|                null|             0|    false|         low|null|1383067660125081605|1383067660125081605|                   null|                 null|                     null|               null|                   null|           true|  en| null| null|             false|          0|{null, null, Mon ...|1378893370421043204| 1378893370421043204|   {twitter.com/road...|          0|            0|    false|{null, null, Fri ...|<a href=\"https://...|RT @Limbaughnomic...|1618584000985|    false|{false, Wed Feb 0...|                 null|\n",
            "+------------+-----------+--------------------+------------------+--------------------+-----------------+--------------------+--------------+---------+------------+----+-------------------+-------------------+-----------------------+---------------------+-------------------------+-------------------+-----------------------+---------------+----+-----+-----+------------------+-----------+--------------------+-------------------+--------------------+-----------------------+-----------+-------------+---------+--------------------+--------------------+--------------------+-------------+---------+--------------------+---------------------+\n",
            "only showing top 5 rows\n",
            "\n"
          ],
          "name": "stdout"
        }
      ]
    },
    {
      "cell_type": "code",
      "metadata": {
        "colab": {
          "base_uri": "https://localhost:8080/"
        },
        "id": "FhU-InOHj3x0",
        "outputId": "06bf2e57-6dee-456e-8954-3ec7ac998823"
      },
      "source": [
        "tweets.count()"
      ],
      "execution_count": null,
      "outputs": [
        {
          "output_type": "execute_result",
          "data": {
            "text/plain": [
              "277066"
            ]
          },
          "metadata": {
            "tags": []
          },
          "execution_count": 89
        }
      ]
    },
    {
      "cell_type": "code",
      "metadata": {
        "colab": {
          "base_uri": "https://localhost:8080/"
        },
        "id": "HrsRN7NtEGwf",
        "outputId": "841d1c09-2365-42ae-ae7a-6394088a7b17"
      },
      "source": [
        "tweets2.show(5)"
      ],
      "execution_count": null,
      "outputs": [
        {
          "output_type": "stream",
          "text": [
            "+------------+-----------+--------------------+------------------+--------------------+-----------------+--------------------+--------------+---------+------------+----+-------------------+-------------------+-----------------------+---------------------+-------------------------+-------------------+-----------------------+---------------+----+-----+------------------+-----------+-------------+----------------+--------------------+-----------------------+-----------+-------------+---------+--------------------+--------------------+--------------------+-------------+---------+--------------------+---------------------+\n",
            "|contributors|coordinates|          created_at|display_text_range|            entities|extended_entities|      extended_tweet|favorite_count|favorited|filter_level| geo|                 id|             id_str|in_reply_to_screen_name|in_reply_to_status_id|in_reply_to_status_id_str|in_reply_to_user_id|in_reply_to_user_id_str|is_quote_status|lang|place|possibly_sensitive|quote_count|quoted_status|quoted_status_id|quoted_status_id_str|quoted_status_permalink|reply_count|retweet_count|retweeted|    retweeted_status|              source|                text| timestamp_ms|truncated|                user|withheld_in_countries|\n",
            "+------------+-----------+--------------------+------------------+--------------------+-----------------+--------------------+--------------+---------+------------+----+-------------------+-------------------+-----------------------+---------------------+-------------------------+-------------------+-----------------------+---------------+----+-----+------------------+-----------+-------------+----------------+--------------------+-----------------------+-----------+-------------+---------+--------------------+--------------------+--------------------+-------------+---------+--------------------+---------------------+\n",
            "|        null|       null|Sun Apr 18 15:19:...|              null|{[], null, [], []...|             null|                null|             0|    false|         low|null|1383802248619167760|1383802248619167760|                   null|                 null|                     null|               null|                   null|          false|  en| null|              null|          0|         null|            null|                null|                   null|          0|            0|    false|{null, null, Sun ...|<a href=\"http://t...|RT @jason_meister...|1618759140530|    false|{false, Thu Mar 1...|                 null|\n",
            "|        null|       null|Sun Apr 18 15:19:...|              null|{[], null, [], [{...|             null|{[0, 145], {[], n...|             0|    false|         low|null|1383802248841498625|1383802248841498625|                   null|                 null|                     null|               null|                   null|          false|  en| null|             false|          0|         null|            null|                null|                   null|          0|            0|    false|                null|<a href=\"https://...|CVS appointments ...|1618759140583|     true|{false, Tue Feb 0...|                 null|\n",
            "|        null|       null|Sun Apr 18 15:19:...|              null|{[], null, [], []...|             null|                null|             0|    false|         low|null|1383802249189548035|1383802249189548035|                   null|                 null|                     null|               null|                   null|          false|  hi| null|              null|          0|         null|            null|                null|                   null|          0|            0|    false|{null, null, Sun ...|<a href=\"http://t...|RT @SaveGomata: @...|1618759140666|    false|{false, Sun Sep 1...|                 null|\n",
            "|        null|       null|Sun Apr 18 15:19:...|              null|{[], null, [], []...|             null|                null|             0|    false|         low|null|1383802249462239238|1383802249462239238|                   null|                 null|                     null|               null|                   null|          false|  en| null|              null|          0|         null|            null|                null|                   null|          0|            0|    false|{null, null, Sun ...|<a href=\"https://...|RT @iAsura_: Dear...|1618759140731|    false|{false, Sat Feb 2...|                 null|\n",
            "|        null|       null|Sun Apr 18 15:19:...|              null|{[], null, [], []...|             null|                null|             0|    false|         low|null|1383802249793597447|1383802249793597447|                   null|                 null|                     null|               null|                   null|          false|  en| null|              null|          0|         null|            null|                null|                   null|          0|            0|    false|{null, null, Sun ...|<a href=\"https://...|RT @okiedokiloki:...|1618759140810|    false|{false, Mon Feb 0...|                 null|\n",
            "+------------+-----------+--------------------+------------------+--------------------+-----------------+--------------------+--------------+---------+------------+----+-------------------+-------------------+-----------------------+---------------------+-------------------------+-------------------+-----------------------+---------------+----+-----+------------------+-----------+-------------+----------------+--------------------+-----------------------+-----------+-------------+---------+--------------------+--------------------+--------------------+-------------+---------+--------------------+---------------------+\n",
            "only showing top 5 rows\n",
            "\n"
          ],
          "name": "stdout"
        }
      ]
    },
    {
      "cell_type": "code",
      "metadata": {
        "colab": {
          "base_uri": "https://localhost:8080/"
        },
        "id": "8emHDZzfEKqn",
        "outputId": "adf115ce-e52b-41b2-bb0d-5d99f5ecd72a"
      },
      "source": [
        "tweets2.count()"
      ],
      "execution_count": null,
      "outputs": [
        {
          "output_type": "execute_result",
          "data": {
            "text/plain": [
              "239140"
            ]
          },
          "metadata": {
            "tags": []
          },
          "execution_count": 91
        }
      ]
    },
    {
      "cell_type": "code",
      "metadata": {
        "id": "b_v6bk4Il8tj"
      },
      "source": [
        "df = tweets\n",
        "drop_column_list = [\"_corrupt_record\", \"contributors\",\"coordinates\", \"created_at\",\"display_text_range\", \"entities\", \"extended_entities\",\"extended_tweet\",\"favorite_count\", \"favorited\",\"filter_level\",\"geo\",\"id\",\"id_str\",\"in_reply_to_screen_name\",\"in_reply_to_status_id\",\"in_reply_to_status_id_str\", \"in_reply_to_user_id\", \"in_reply_to_user_id_str\",\"is_quote_status\",\"lang\",\"limit\",\"place\",\"possibly_sensitive\",\"quote_count\",\"quoted_status\",\"quoted_status_id\",\"quoted_status_id_str\",\"quoted_status_permalink\",\"reply_count\",\"retweet_count\",\"retweeted\",\"retweeted_status\",\"source\",\"timestamp_ms\",\"truncated\",\"user\",\"withheld_in_countries\"]\n",
        "tweets = tweets.select([column for column in df.columns if column not in drop_column_list])  "
      ],
      "execution_count": null,
      "outputs": []
    },
    {
      "cell_type": "code",
      "metadata": {
        "colab": {
          "base_uri": "https://localhost:8080/"
        },
        "id": "aiAlPgDrnf7i",
        "outputId": "24db98aa-3748-477a-8d13-3182a1466ee5"
      },
      "source": [
        "tweets.show(5,truncate=False)"
      ],
      "execution_count": null,
      "outputs": [
        {
          "output_type": "stream",
          "text": [
            "+--------------------------------------------------------------------------------------------------------------------------------------------+\n",
            "|text                                                                                                                                        |\n",
            "+--------------------------------------------------------------------------------------------------------------------------------------------+\n",
            "|RT @taoquei1: Ohhh Brasil, o que fizeram com vc? 😞                                                                                         |\n",
            "|@Medicina_CFM CFM acima de todos... devem ter debatido l kit covid, a nebulização...                                                        |\n",
            "|1/2. A record 74,927 doses of the various COVID-19 vaccines were administered in Quebec on Thursday . The 15,522 do… https://t.co/Qw2KNX4gIy|\n",
            "|RT @Arvindharmapuri: COVID-19 పాజిటివ్ గా నిర్ధారణ అయిన శ్రీ పవన్ కళ్యాణ్ గారు త్వరగా కోలుకోవాలని భగవంతుణ్ణి ప్రార్ధిస్తున్నాను.\n",
            "\n",
            "Praying f…|\n",
            "|RT @Limbaughnomicon: Truth. https://t.co/NyIOzJIQyH                                                                                         |\n",
            "+--------------------------------------------------------------------------------------------------------------------------------------------+\n",
            "only showing top 5 rows\n",
            "\n"
          ],
          "name": "stdout"
        }
      ]
    },
    {
      "cell_type": "code",
      "metadata": {
        "colab": {
          "base_uri": "https://localhost:8080/"
        },
        "id": "fl3r_SvOnhjj",
        "outputId": "73afbbd9-4b57-4351-91b2-43c9e14f482a"
      },
      "source": [
        "len(drop_column_list)"
      ],
      "execution_count": null,
      "outputs": [
        {
          "output_type": "execute_result",
          "data": {
            "text/plain": [
              "38"
            ]
          },
          "metadata": {
            "tags": []
          },
          "execution_count": 94
        }
      ]
    },
    {
      "cell_type": "code",
      "metadata": {
        "id": "_R6ChQHeEeBy"
      },
      "source": [
        "df2 = tweets\n",
        "drop_column_list2 = [\"_corrupt_record\", \"contributors\",\"coordinates\", \"created_at\",\"display_text_range\", \"entities\", \"extended_entities\",\"extended_tweet\",\"favorite_count\", \"favorited\",\"filter_level\",\"geo\",\"id\",\"id_str\",\"in_reply_to_screen_name\",\"in_reply_to_status_id\",\"in_reply_to_status_id_str\", \"in_reply_to_user_id\", \"in_reply_to_user_id_str\",\"is_quote_status\",\"lang\",\"place\",\"possibly_sensitive\",\"quote_count\",\"quoted_status\",\"quoted_status_id\",\"quoted_status_id_str\",\"quoted_status_permalink\",\"reply_count\",\"retweet_count\",\"retweeted\",\"retweeted_status\",\"source\",\"timestamp_ms\",\"truncated\",\"user\",\"withheld_in_countries\"]\n",
        "tweets2 = tweets2.select([column for column in df2.columns if column not in drop_column_list2])  "
      ],
      "execution_count": null,
      "outputs": []
    },
    {
      "cell_type": "code",
      "metadata": {
        "colab": {
          "base_uri": "https://localhost:8080/"
        },
        "id": "dHAE9J2_Eu_q",
        "outputId": "53c6da77-8073-40ae-f7f9-e7368eefccf0"
      },
      "source": [
        "tweets2.show(5,truncate=False)"
      ],
      "execution_count": null,
      "outputs": [
        {
          "output_type": "stream",
          "text": [
            "+--------------------------------------------------------------------------------------------------------------------------------------------+\n",
            "|text                                                                                                                                        |\n",
            "+--------------------------------------------------------------------------------------------------------------------------------------------+\n",
            "|RT @jason_meister: Joe Biden is double masked while eating lunch despite being vaccinated 97 days ago. The optics do immeasurable damage to…|\n",
            "|CVS appointments available in EAST FALMOUTH, FALL RIVER, NEW BEDFORD, WALTHAM, WESTPORT. Check eligibility and sign… https://t.co/rjU3RZZRsk|\n",
            "|RT @SaveGomata: @Rakesh1752 @smitaprakash @Vishnu_Jain1 @GauPrem @madhukishwar @noconversion @ravoria @GauSevaAgniveer @GSamskriti @shopfor…|\n",
            "|RT @iAsura_: Dear @narendramodi please go all out and find out the source of all anti vaccine propaganda circulating on WhatsApp and other… |\n",
            "|RT @okiedokiloki: @itsmahi__ If they haven't taken vaccines yet, make it a habit of eating kabasura pill, it's approved by govt, as an alte…|\n",
            "+--------------------------------------------------------------------------------------------------------------------------------------------+\n",
            "only showing top 5 rows\n",
            "\n"
          ],
          "name": "stdout"
        }
      ]
    },
    {
      "cell_type": "code",
      "metadata": {
        "colab": {
          "base_uri": "https://localhost:8080/"
        },
        "id": "Rn377JecEzyg",
        "outputId": "982d65b8-b853-4b7c-fcb8-726048583246"
      },
      "source": [
        "len(drop_column_list2)"
      ],
      "execution_count": null,
      "outputs": [
        {
          "output_type": "execute_result",
          "data": {
            "text/plain": [
              "37"
            ]
          },
          "metadata": {
            "tags": []
          },
          "execution_count": 97
        }
      ]
    },
    {
      "cell_type": "markdown",
      "metadata": {
        "id": "sy5R8hd_n_li"
      },
      "source": [
        "**Data Preprocessing**"
      ]
    },
    {
      "cell_type": "code",
      "metadata": {
        "colab": {
          "base_uri": "https://localhost:8080/"
        },
        "id": "kr5xKO2oHVtH",
        "outputId": "d9380812-5cc7-45a2-ce9c-7b79de944d8f"
      },
      "source": [
        "tweets.show()"
      ],
      "execution_count": null,
      "outputs": [
        {
          "output_type": "stream",
          "text": [
            "+--------------------+\n",
            "|                text|\n",
            "+--------------------+\n",
            "|RT @taoquei1: Ohh...|\n",
            "|@Medicina_CFM CFM...|\n",
            "|1/2. A record 74,...|\n",
            "|RT @Arvindharmapu...|\n",
            "|RT @Limbaughnomic...|\n",
            "|RT @BoyerMichel: ...|\n",
            "|RT @SigaGazetaBR:...|\n",
            "|RT @RoflGandhi_: ...|\n",
            "|Diane Francis: Li...|\n",
            "|RT @CNBC: Could w...|\n",
            "|@lamElizaBee @Rep...|\n",
            "|Las enfermedades ...|\n",
            "|                null|\n",
            "|RT @RudaMorcillo:...|\n",
            "|RT @RealRichardBa...|\n",
            "|RT @DrVW30: Watch...|\n",
            "|#COVID19 \n",
            "#CovidV...|\n",
            "|RT @GazeteMusteha...|\n",
            "|RT @Reuters: U.S....|\n",
            "|Man pleads no con...|\n",
            "+--------------------+\n",
            "only showing top 20 rows\n",
            "\n"
          ],
          "name": "stdout"
        }
      ]
    },
    {
      "cell_type": "code",
      "metadata": {
        "colab": {
          "base_uri": "https://localhost:8080/"
        },
        "id": "N2x8P0UgE5fC",
        "outputId": "d0a42088-da70-4e33-e9e4-bfb37e68e81d"
      },
      "source": [
        "tweets2.show()"
      ],
      "execution_count": null,
      "outputs": [
        {
          "output_type": "stream",
          "text": [
            "+--------------------+\n",
            "|                text|\n",
            "+--------------------+\n",
            "|RT @jason_meister...|\n",
            "|CVS appointments ...|\n",
            "|RT @SaveGomata: @...|\n",
            "|RT @iAsura_: Dear...|\n",
            "|RT @okiedokiloki:...|\n",
            "|RT @CREWcrew: AT&...|\n",
            "|RT @junifactcheck...|\n",
            "|RT @xi_guzzbelll:...|\n",
            "|RT @ghitis: Una c...|\n",
            "|America has a mor...|\n",
            "|@el_patron_etc Il...|\n",
            "|Same media houses...|\n",
            "|@umashankarsingh ...|\n",
            "|RT @MarcMacDhugai...|\n",
            "|Walk-up vaccine a...|\n",
            "|RT @JoeSilverman7...|\n",
            "|RT @EmmaJoNYC: Ju...|\n",
            "|RT @TimFullerton:...|\n",
            "|RT @translatingTX...|\n",
            "|RT @junifactcheck...|\n",
            "+--------------------+\n",
            "only showing top 20 rows\n",
            "\n"
          ],
          "name": "stdout"
        }
      ]
    },
    {
      "cell_type": "code",
      "metadata": {
        "id": "VR5RA73keJb-"
      },
      "source": [
        "#remove rows with text = null\n",
        "tweets = tweets.na.drop(subset=[\"text\"])"
      ],
      "execution_count": null,
      "outputs": []
    },
    {
      "cell_type": "code",
      "metadata": {
        "id": "LZ7J_qLQE-o4"
      },
      "source": [
        "#remove rows with text = null\n",
        "tweets2 = tweets2.na.drop(subset=[\"text\"])"
      ],
      "execution_count": null,
      "outputs": []
    },
    {
      "cell_type": "code",
      "metadata": {
        "colab": {
          "base_uri": "https://localhost:8080/"
        },
        "id": "AkR5q1GYtID1",
        "outputId": "6facb437-7dd8-42dc-d392-82c0069666ed"
      },
      "source": [
        "tweets.show(5,truncate=False)"
      ],
      "execution_count": null,
      "outputs": [
        {
          "output_type": "stream",
          "text": [
            "+--------------------------------------------------------------------------------------------------------------------------------------------+\n",
            "|text                                                                                                                                        |\n",
            "+--------------------------------------------------------------------------------------------------------------------------------------------+\n",
            "|RT @taoquei1: Ohhh Brasil, o que fizeram com vc? 😞                                                                                         |\n",
            "|@Medicina_CFM CFM acima de todos... devem ter debatido l kit covid, a nebulização...                                                        |\n",
            "|1/2. A record 74,927 doses of the various COVID-19 vaccines were administered in Quebec on Thursday . The 15,522 do… https://t.co/Qw2KNX4gIy|\n",
            "|RT @Arvindharmapuri: COVID-19 పాజిటివ్ గా నిర్ధారణ అయిన శ్రీ పవన్ కళ్యాణ్ గారు త్వరగా కోలుకోవాలని భగవంతుణ్ణి ప్రార్ధిస్తున్నాను.\n",
            "\n",
            "Praying f…|\n",
            "|RT @Limbaughnomicon: Truth. https://t.co/NyIOzJIQyH                                                                                         |\n",
            "+--------------------------------------------------------------------------------------------------------------------------------------------+\n",
            "only showing top 5 rows\n",
            "\n"
          ],
          "name": "stdout"
        }
      ]
    },
    {
      "cell_type": "code",
      "metadata": {
        "colab": {
          "base_uri": "https://localhost:8080/"
        },
        "id": "p2eUCaVbFCKP",
        "outputId": "8dd60a7a-71bd-4620-d98c-62f7dd9f7ec2"
      },
      "source": [
        "tweets2.show(5,truncate=False)"
      ],
      "execution_count": null,
      "outputs": [
        {
          "output_type": "stream",
          "text": [
            "+--------------------------------------------------------------------------------------------------------------------------------------------+\n",
            "|text                                                                                                                                        |\n",
            "+--------------------------------------------------------------------------------------------------------------------------------------------+\n",
            "|RT @jason_meister: Joe Biden is double masked while eating lunch despite being vaccinated 97 days ago. The optics do immeasurable damage to…|\n",
            "|CVS appointments available in EAST FALMOUTH, FALL RIVER, NEW BEDFORD, WALTHAM, WESTPORT. Check eligibility and sign… https://t.co/rjU3RZZRsk|\n",
            "|RT @SaveGomata: @Rakesh1752 @smitaprakash @Vishnu_Jain1 @GauPrem @madhukishwar @noconversion @ravoria @GauSevaAgniveer @GSamskriti @shopfor…|\n",
            "|RT @iAsura_: Dear @narendramodi please go all out and find out the source of all anti vaccine propaganda circulating on WhatsApp and other… |\n",
            "|RT @okiedokiloki: @itsmahi__ If they haven't taken vaccines yet, make it a habit of eating kabasura pill, it's approved by govt, as an alte…|\n",
            "+--------------------------------------------------------------------------------------------------------------------------------------------+\n",
            "only showing top 5 rows\n",
            "\n"
          ],
          "name": "stdout"
        }
      ]
    },
    {
      "cell_type": "markdown",
      "metadata": {
        "id": "yXpsXkWbcmfw"
      },
      "source": [
        "**Remove Non-ASCII characters**"
      ]
    },
    {
      "cell_type": "code",
      "metadata": {
        "id": "Dh7-HQBbY0Re"
      },
      "source": [
        "from pyspark.sql.functions import udf\n",
        "from pyspark.sql.types import StringType\n",
        "\n",
        "from nltk.stem.wordnet import WordNetLemmatizer\n",
        "from nltk.corpus import stopwords\n",
        "from nltk import pos_tag\n",
        "import string\n",
        "import re\n",
        "\n",
        "# remove non ASCII characters\n",
        "def strip_non_ascii(data_str):\n",
        "    ''' Returns the string without non ASCII characters'''\n",
        "    stripped = (c for c in data_str if 0 < ord(c) < 127)\n",
        "    return ''.join(stripped)\n",
        "# setup pyspark udf function\n",
        "strip_non_ascii_udf = udf(strip_non_ascii, StringType())"
      ],
      "execution_count": null,
      "outputs": []
    },
    {
      "cell_type": "code",
      "metadata": {
        "colab": {
          "base_uri": "https://localhost:8080/"
        },
        "id": "mkZDCoJxoNs6",
        "outputId": "28f9791d-59d9-4fb2-c7ac-3183cbf495f3"
      },
      "source": [
        "tweets = tweets.withColumn('text_non_ascii',strip_non_ascii_udf(tweets['text']))\n",
        "tweets.show(5)"
      ],
      "execution_count": null,
      "outputs": [
        {
          "output_type": "stream",
          "text": [
            "+--------------------+--------------------+\n",
            "|                text|      text_non_ascii|\n",
            "+--------------------+--------------------+\n",
            "|RT @taoquei1: Ohh...|RT @taoquei1: Ohh...|\n",
            "|@Medicina_CFM CFM...|@Medicina_CFM CFM...|\n",
            "|1/2. A record 74,...|1/2. A record 74,...|\n",
            "|RT @Arvindharmapu...|RT @Arvindharmapu...|\n",
            "|RT @Limbaughnomic...|RT @Limbaughnomic...|\n",
            "+--------------------+--------------------+\n",
            "only showing top 5 rows\n",
            "\n"
          ],
          "name": "stdout"
        }
      ]
    },
    {
      "cell_type": "code",
      "metadata": {
        "colab": {
          "base_uri": "https://localhost:8080/"
        },
        "id": "3x0t8FH6FH5D",
        "outputId": "68cc17ff-320c-413d-c9fb-463b1e9e697b"
      },
      "source": [
        "tweets2 = tweets2.withColumn('text_non_ascii',strip_non_ascii_udf(tweets2['text']))\n",
        "tweets2.show(5)"
      ],
      "execution_count": null,
      "outputs": [
        {
          "output_type": "stream",
          "text": [
            "+--------------------+--------------------+\n",
            "|                text|      text_non_ascii|\n",
            "+--------------------+--------------------+\n",
            "|RT @jason_meister...|RT @jason_meister...|\n",
            "|CVS appointments ...|CVS appointments ...|\n",
            "|RT @SaveGomata: @...|RT @SaveGomata: @...|\n",
            "|RT @iAsura_: Dear...|RT @iAsura_: Dear...|\n",
            "|RT @okiedokiloki:...|RT @okiedokiloki:...|\n",
            "+--------------------+--------------------+\n",
            "only showing top 5 rows\n",
            "\n"
          ],
          "name": "stdout"
        }
      ]
    },
    {
      "cell_type": "code",
      "metadata": {
        "id": "vKjrrJJoctqi"
      },
      "source": [
        "def remove_features(data_str):\n",
        "    # compile regex\n",
        "    url_re = re.compile('https?://(www.)?\\w+\\.\\w+(/\\w+)*/?')\n",
        "    punc_re = re.compile('[%s]' % re.escape(string.punctuation))\n",
        "    num_re = re.compile('(\\\\d+)')\n",
        "    mention_re = re.compile('@(\\w+)')\n",
        "    alpha_num_re = re.compile(\"^[a-z0-9_.]+$\")\n",
        "    # convert to lowercase\n",
        "    data_str = data_str.lower()\n",
        "    # remove hyperlinks\n",
        "    data_str = url_re.sub(' ', data_str)\n",
        "    # remove @mentions\n",
        "    data_str = mention_re.sub(' ', data_str)\n",
        "    # remove puncuation\n",
        "    data_str = punc_re.sub(' ', data_str)\n",
        "    # remove numeric 'words'\n",
        "    data_str = num_re.sub(' ', data_str)\n",
        "    # remove non a-z 0-9 characters and words shorter than 1 characters\n",
        "    list_pos = 0\n",
        "    cleaned_str = ''\n",
        "    for word in data_str.split():\n",
        "        if list_pos == 0:\n",
        "            if alpha_num_re.match(word) and len(word) > 1:\n",
        "                cleaned_str = word\n",
        "            else:\n",
        "                cleaned_str = ' '\n",
        "        else:\n",
        "            if alpha_num_re.match(word) and len(word) > 1:\n",
        "                cleaned_str = cleaned_str + ' ' + word\n",
        "            else:\n",
        "                cleaned_str += ' '\n",
        "        list_pos += 1\n",
        "    # remove unwanted space, *.split() will automatically split on\n",
        "    # whitespace and discard duplicates, the \" \".join() joins the\n",
        "    # resulting list into one string.\n",
        "    return \" \".join(cleaned_str.split())\n",
        "# setup pyspark udf function\n",
        "remove_features_udf = udf(remove_features, StringType())"
      ],
      "execution_count": null,
      "outputs": []
    },
    {
      "cell_type": "code",
      "metadata": {
        "id": "T34YtKAOoSBT"
      },
      "source": [
        "tweets = tweets.withColumn('removed',remove_features_udf(tweets['text_non_ascii']))"
      ],
      "execution_count": null,
      "outputs": []
    },
    {
      "cell_type": "code",
      "metadata": {
        "id": "WJeH43d8FQ2V"
      },
      "source": [
        "tweets2 = tweets2.withColumn('removed',remove_features_udf(tweets2['text_non_ascii']))"
      ],
      "execution_count": null,
      "outputs": []
    },
    {
      "cell_type": "code",
      "metadata": {
        "id": "bjPcjaByoVjr"
      },
      "source": [
        "from pyspark.sql.types import FloatType\n",
        "\n",
        "from textblob import TextBlob\n",
        "\n",
        "def sentiment_analysis(text):\n",
        "    return TextBlob(text).sentiment.polarity\n",
        "\n",
        "sentiment_analysis_udf = udf(sentiment_analysis , FloatType())"
      ],
      "execution_count": null,
      "outputs": []
    },
    {
      "cell_type": "code",
      "metadata": {
        "id": "eYBjzED_wP-e"
      },
      "source": [
        "#Removed: 0=>neutral, >0 positive, <0 negative\n",
        "tweets  = tweets.withColumn(\"sentiment_score\", sentiment_analysis_udf(tweets['removed']))"
      ],
      "execution_count": null,
      "outputs": []
    },
    {
      "cell_type": "code",
      "metadata": {
        "id": "iDERu0x6FYuM"
      },
      "source": [
        "tweets2  = tweets2.withColumn(\"sentiment_score\", sentiment_analysis_udf(tweets2['removed']))"
      ],
      "execution_count": null,
      "outputs": []
    },
    {
      "cell_type": "code",
      "metadata": {
        "id": "h2yKBDZUW0Ps"
      },
      "source": [
        "def condition(r):\n",
        "    if (r >=0.1):\n",
        "        label = \"positive\"\n",
        "    elif(r <= -0.1):\n",
        "        label = \"negative\"\n",
        "    else:\n",
        "        label = \"neutral\"\n",
        "    return label\n",
        "\n",
        "sentiment_udf = udf(lambda x: condition(x), StringType())"
      ],
      "execution_count": null,
      "outputs": []
    },
    {
      "cell_type": "code",
      "metadata": {
        "id": "sG1JWtM3xs_8"
      },
      "source": [
        "tweets = tweets.withColumn(\"condition\", sentiment_udf(tweets['sentiment_score']))"
      ],
      "execution_count": null,
      "outputs": []
    },
    {
      "cell_type": "code",
      "metadata": {
        "id": "uRq4hMtzFfF_"
      },
      "source": [
        "tweets2 = tweets2.withColumn(\"condition\", sentiment_udf(tweets2['sentiment_score']))"
      ],
      "execution_count": null,
      "outputs": []
    },
    {
      "cell_type": "code",
      "metadata": {
        "colab": {
          "base_uri": "https://localhost:8080/"
        },
        "id": "Kzpo64kqphT4",
        "outputId": "d5b2b11b-2d77-46e0-a94c-a180bf4cdf2e"
      },
      "source": [
        "word_cloud = tweets.select(\"removed\", \"condition\")\n",
        "word_cloud.show(n=5)"
      ],
      "execution_count": null,
      "outputs": [
        {
          "output_type": "stream",
          "text": [
            "+--------------------+---------+\n",
            "|             removed|condition|\n",
            "+--------------------+---------+\n",
            "|rt ohhh brasil qu...|  neutral|\n",
            "|cfm acima de todo...|  neutral|\n",
            "|record doses of t...|  neutral|\n",
            "|    rt covid praying|  neutral|\n",
            "|            rt truth|  neutral|\n",
            "+--------------------+---------+\n",
            "only showing top 5 rows\n",
            "\n"
          ],
          "name": "stdout"
        }
      ]
    },
    {
      "cell_type": "code",
      "metadata": {
        "id": "eLcDNzEXqwgG"
      },
      "source": [
        "neutral = word_cloud.filter(col(\"condition\") == \"neutral\")\n",
        "positive = word_cloud.filter(col(\"condition\") == \"positive\")\n",
        "negative = word_cloud.filter(col(\"condition\") == \"negative\")"
      ],
      "execution_count": null,
      "outputs": []
    },
    {
      "cell_type": "code",
      "metadata": {
        "colab": {
          "base_uri": "https://localhost:8080/"
        },
        "id": "1CaZFHhUrOCf",
        "outputId": "449c5aed-0ba7-4e94-984c-ddd9435a3cef"
      },
      "source": [
        "neutral.show(n=5)"
      ],
      "execution_count": null,
      "outputs": [
        {
          "output_type": "stream",
          "text": [
            "+--------------------+---------+\n",
            "|             removed|condition|\n",
            "+--------------------+---------+\n",
            "|rt ohhh brasil qu...|  neutral|\n",
            "|cfm acima de todo...|  neutral|\n",
            "|record doses of t...|  neutral|\n",
            "|    rt covid praying|  neutral|\n",
            "|            rt truth|  neutral|\n",
            "+--------------------+---------+\n",
            "only showing top 5 rows\n",
            "\n"
          ],
          "name": "stdout"
        }
      ]
    },
    {
      "cell_type": "code",
      "metadata": {
        "id": "A2vIpTuTrzJI"
      },
      "source": [
        "neutral_df = neutral.toPandas()\n",
        "positive_df = positive.toPandas()\n",
        "negative_df = negative.toPandas()"
      ],
      "execution_count": null,
      "outputs": []
    },
    {
      "cell_type": "code",
      "metadata": {
        "colab": {
          "base_uri": "https://localhost:8080/"
        },
        "id": "vqvkS6bJF-nh",
        "outputId": "88099615-eb63-4574-bb50-49f72c665331"
      },
      "source": [
        "word_cloud2 = tweets2.select(\"removed\", \"condition\")\n",
        "word_cloud2.show(n=5)"
      ],
      "execution_count": null,
      "outputs": [
        {
          "output_type": "stream",
          "text": [
            "+--------------------+---------+\n",
            "|             removed|condition|\n",
            "+--------------------+---------+\n",
            "|rt joe biden is d...|  neutral|\n",
            "|cvs appointments ...| positive|\n",
            "|                  rt|  neutral|\n",
            "|rt dear please go...| negative|\n",
            "|rt if they haven ...|  neutral|\n",
            "+--------------------+---------+\n",
            "only showing top 5 rows\n",
            "\n"
          ],
          "name": "stdout"
        }
      ]
    },
    {
      "cell_type": "code",
      "metadata": {
        "id": "8CIPlB7qGFGg"
      },
      "source": [
        "neutral2 = word_cloud2.filter(col(\"condition\") == \"neutral\")\n",
        "positive2 = word_cloud2.filter(col(\"condition\") == \"positive\")\n",
        "negative2 = word_cloud2.filter(col(\"condition\") == \"negative\")"
      ],
      "execution_count": null,
      "outputs": []
    },
    {
      "cell_type": "code",
      "metadata": {
        "colab": {
          "base_uri": "https://localhost:8080/"
        },
        "id": "mAZQiM91GMQw",
        "outputId": "3748b540-e651-42b1-941a-dee0ab57c301"
      },
      "source": [
        "neutral2.show(n=5)"
      ],
      "execution_count": null,
      "outputs": [
        {
          "output_type": "stream",
          "text": [
            "+--------------------+---------+\n",
            "|             removed|condition|\n",
            "+--------------------+---------+\n",
            "|rt joe biden is d...|  neutral|\n",
            "|                  rt|  neutral|\n",
            "|rt if they haven ...|  neutral|\n",
            "|rt at amp fedex f...|  neutral|\n",
            "|rt fb thanachart ...|  neutral|\n",
            "+--------------------+---------+\n",
            "only showing top 5 rows\n",
            "\n"
          ],
          "name": "stdout"
        }
      ]
    },
    {
      "cell_type": "code",
      "metadata": {
        "id": "VBppXuaCGQkg"
      },
      "source": [
        "neutral_df2 = neutral2.toPandas()\n",
        "positive_df2 = positive2.toPandas()\n",
        "negative_df2 = negative2.toPandas()"
      ],
      "execution_count": null,
      "outputs": []
    },
    {
      "cell_type": "code",
      "metadata": {
        "id": "Xicw9kOyGYV7"
      },
      "source": [
        "import pandas as pd\n",
        "df_row_merged = pd.concat([neutral_df, neutral_df2], ignore_index=True)\n",
        "\n",
        "neutral_df_combined = pd.concat([neutral_df, neutral_df2], ignore_index=True)\n",
        "positive_df_combined = pd.concat([positive_df, positive_df2], ignore_index=True)\n",
        "negative_df_combined = pd.concat([negative_df, negative_df2], ignore_index=True)"
      ],
      "execution_count": null,
      "outputs": []
    },
    {
      "cell_type": "code",
      "metadata": {
        "colab": {
          "base_uri": "https://localhost:8080/"
        },
        "id": "-f8r7dpSJVrD",
        "outputId": "3252bd82-be54-4861-c338-c1a27cbd2585"
      },
      "source": [
        "neutral_df.count()"
      ],
      "execution_count": null,
      "outputs": [
        {
          "output_type": "execute_result",
          "data": {
            "text/plain": [
              "removed      176970\n",
              "condition    176970\n",
              "dtype: int64"
            ]
          },
          "metadata": {
            "tags": []
          },
          "execution_count": 125
        }
      ]
    },
    {
      "cell_type": "code",
      "metadata": {
        "colab": {
          "base_uri": "https://localhost:8080/"
        },
        "id": "XixmwxMSJYwQ",
        "outputId": "98fecd76-cc66-406d-f28a-119c537ae5a5"
      },
      "source": [
        "neutral_df_combined.count()"
      ],
      "execution_count": null,
      "outputs": [
        {
          "output_type": "execute_result",
          "data": {
            "text/plain": [
              "removed      330534\n",
              "condition    330534\n",
              "dtype: int64"
            ]
          },
          "metadata": {
            "tags": []
          },
          "execution_count": 126
        }
      ]
    },
    {
      "cell_type": "code",
      "metadata": {
        "colab": {
          "base_uri": "https://localhost:8080/"
        },
        "id": "FjnI_xenowmn",
        "outputId": "db90bf99-2b14-4196-a68f-951d6568ecad"
      },
      "source": [
        "counts"
      ],
      "execution_count": null,
      "outputs": [
        {
          "output_type": "execute_result",
          "data": {
            "text/html": [
              "<div>\n",
              "<style scoped>\n",
              "    .dataframe tbody tr th:only-of-type {\n",
              "        vertical-align: middle;\n",
              "    }\n",
              "\n",
              "    .dataframe tbody tr th {\n",
              "        vertical-align: top;\n",
              "    }\n",
              "\n",
              "    .dataframe thead th {\n",
              "        text-align: right;\n",
              "    }\n",
              "</style>\n",
              "<table border=\"1\" class=\"dataframe\">\n",
              "  <thead>\n",
              "    <tr style=\"text-align: right;\">\n",
              "      <th></th>\n",
              "      <th>count</th>\n",
              "    </tr>\n",
              "    <tr>\n",
              "      <th>condition</th>\n",
              "      <th></th>\n",
              "    </tr>\n",
              "  </thead>\n",
              "  <tbody>\n",
              "    <tr>\n",
              "      <th>neutral</th>\n",
              "      <td>330534</td>\n",
              "    </tr>\n",
              "    <tr>\n",
              "      <th>positive</th>\n",
              "      <td>129989</td>\n",
              "    </tr>\n",
              "    <tr>\n",
              "      <th>negative</th>\n",
              "      <td>55680</td>\n",
              "    </tr>\n",
              "  </tbody>\n",
              "</table>\n",
              "</div>"
            ],
            "text/plain": [
              "            count\n",
              "condition        \n",
              "neutral    330534\n",
              "positive   129989\n",
              "negative    55680"
            ]
          },
          "metadata": {
            "tags": []
          },
          "execution_count": 148
        }
      ]
    },
    {
      "cell_type": "code",
      "metadata": {
        "id": "FXJf8JvRozXs"
      },
      "source": [
        "import matplotlib.pyplot as plt"
      ],
      "execution_count": null,
      "outputs": []
    },
    {
      "cell_type": "code",
      "metadata": {
        "colab": {
          "base_uri": "https://localhost:8080/",
          "height": 1000
        },
        "id": "TSM5QTj-o1bm",
        "outputId": "590ce1e2-0550-4428-b378-22dbc4fc486c"
      },
      "source": [
        "neutral = counts.iat[0,0] \n",
        "positive = counts.iat[1,0] \n",
        "negative = counts.iat[2,0] \n",
        "\n",
        "Tasks = [neutral, positive, negative]\n",
        "my_labels = 'Neutral','Positive','Negative'\n",
        "plt.figure(figsize=(10,10))\n",
        "plt.pie(Tasks,labels=my_labels,autopct='%1.1f%%')\n",
        "plt.title('Sentiment of Covid-19 Vaccine Tweets')\n",
        "#plt.axis('Percentages')\n",
        "plt.show()\n",
        "colors=('c', 'g', 'b')\n",
        "plt.figure(figsize=(10,10))\n",
        "plt.pie(Tasks, colors=colors ,labels=my_labels, \n",
        "       autopct='%1.1f%%', textprops={'fontsize': 24})"
      ],
      "execution_count": null,
      "outputs": [
        {
          "output_type": "display_data",
          "data": {
            "image/png": "[encoded data removed]",
            "text/plain": [
              "<Figure size 720x720 with 1 Axes>"
            ]
          },
          "metadata": {
            "tags": []
          }
        },
        {
          "output_type": "execute_result",
          "data": {
            "text/plain": [
              "([<matplotlib.patches.Wedge at 0x7f77ce40e090>,\n",
              "  <matplotlib.patches.Wedge at 0x7f77cdf2b6d0>,\n",
              "  <matplotlib.patches.Wedge at 0x7f77cdf2b310>],\n",
              " [Text(-0.46935088152041804, 0.9948415703095678, 'Neutral'),\n",
              "  Text(0.11195635209642742, -1.09428779360151, 'Positive'),\n",
              "  Text(1.0374452551598383, -0.36566014623737453, 'Negative')],\n",
              " [Text(-0.2560095717384098, 0.5426408565324914, '64.0%'),\n",
              "  Text(0.06106710114350586, -0.596884251055369, '25.2%'),\n",
              "  Text(0.5658792300871845, -0.19945098885674972, '10.8%')])"
            ]
          },
          "metadata": {
            "tags": []
          },
          "execution_count": 150
        },
        {
          "output_type": "display_data",
          "data": {
            "image/png": "[encoded data removed]",
            "text/plain": [
              "<Figure size 720x720 with 1 Axes>"
            ]
          },
          "metadata": {
            "tags": []
          }
        }
      ]
    },
    {
      "cell_type": "code",
      "metadata": {
        "id": "qHC374MXoq6T",
        "colab": {
          "base_uri": "https://localhost:8080/"
        },
        "outputId": "f1f1fde2-8d94-4a27-f57e-5cdaeca9fb53"
      },
      "source": [
        "tweets2.filter(tweets2.condition==\"positive\").show(truncate=False)\n"
      ],
      "execution_count": null,
      "outputs": [
        {
          "output_type": "stream",
          "text": [
            "+------------------------------------------------------------------------------------------------------------------------------------------------+-----------------------------------------------------------------------------------------------------------------------------------------------+-------------------------------------------------------------------------------------------------------------------------------+---------------+---------+\n",
            "|text                                                                                                                                            |text_non_ascii                                                                                                                                 |removed                                                                                                                        |sentiment_score|condition|\n",
            "+------------------------------------------------------------------------------------------------------------------------------------------------+-----------------------------------------------------------------------------------------------------------------------------------------------+-------------------------------------------------------------------------------------------------------------------------------+---------------+---------+\n",
            "|CVS appointments available in EAST FALMOUTH, FALL RIVER, NEW BEDFORD, WALTHAM, WESTPORT. Check eligibility and sign… https://t.co/rjU3RZZRsk    |CVS appointments available in EAST FALMOUTH, FALL RIVER, NEW BEDFORD, WALTHAM, WESTPORT. Check eligibility and sign https://t.co/rjU3RZZRsk    |cvs appointments available in east falmouth fall river new bedford waltham westport check eligibility and sign                 |0.26818183     |positive |\n",
            "|Walk-up vaccine appointments are available today at the Indianapolis Motor Speedway.\n",
            "\n",
            "https://t.co/shQjJOvzhX                                   |Walk-up vaccine appointments are available today at the Indianapolis Motor Speedway.\n",
            "\n",
            "https://t.co/shQjJOvzhX                                  |walk up vaccine appointments are available today at the indianapolis motor speedway                                            |0.4            |positive |\n",
            "|RT @EmmaJoNYC: Just returned to the US from Canada and the difference in lifestyle between two western democratic and free countries is jar…    |RT @EmmaJoNYC: Just returned to the US from Canada and the difference in lifestyle between two western democratic and free countries is jar    |rt just returned to the us from canada and the difference in lifestyle between two western democratic and free countries is jar|0.2            |positive |\n",
            "|RT @translatingTXT: 🐿: i want to make a vaccine...magic that can create amazing medical technology? wouldn't that be the best thing right n…   |RT @translatingTXT: : i want to make a vaccine...magic that can create amazing medical technology? wouldn't that be the best thing right n     |rt want to make vaccine magic that can create amazing medical technology wouldn that be the best thing right                   |0.47714287     |positive |\n",
            "|RT @ReskiLab: Super Aktion, @badischezeitung: Sonderimpftag #AstraZeneca über gesonderte Anmeldung. Kooperation mit #Impfzentrum Freiburg:      |RT @ReskiLab: Super Aktion, @badischezeitung: Sonderimpftag #AstraZeneca ber gesonderte Anmeldung. Kooperation mit #Impfzentrum Freiburg:      |rt super aktion sonderimpftag astrazeneca ber gesonderte anmeldung kooperation mit impfzentrum freiburg                        |0.33333334     |positive |\n",
            "|RT @SharoncarseTog: I have friends that I've known for years celebrating having their first vaccine , society is screwed up 🙄                  |RT @SharoncarseTog: I have friends that I've known for years celebrating having their first vaccine , society is screwed up                    |rt have friends that ve known for years celebrating having their first vaccine society is screwed up                           |0.25           |positive |\n",
            "|RT @B52Malmet: Dr. Fauci says by Friday a decision will be made about the J&amp;J vaccine. He also says there are still 60 to 70,000 new #coron…|RT @B52Malmet: Dr. Fauci says by Friday a decision will be made about the J&amp;J vaccine. He also says there are still 60 to 70,000 new #coron|rt dr fauci says by friday decision will be made about the amp vaccine he also says there are still to new coron               |0.13636364     |positive |\n",
            "|When vaccine side effects have your mood at 'unconscious', 'please let me be unconscious' or 'this needs more mindl… https://t.co/JM1QhKnVkz    |When vaccine side effects have your mood at 'unconscious', 'please let me be unconscious' or 'this needs more mindl https://t.co/JM1QhKnVkz    |when vaccine side effects have your mood at unconscious please let me be unconscious or this needs more mindl                  |0.5            |positive |\n",
            "|RT @navikakumar: Doc pl hang in there!! Sending you positive vibes!!! Need you back on your feet &amp; soon!! 🙏🏻🙏🏻                          |RT @navikakumar: Doc pl hang in there!! Sending you positive vibes!!! Need you back on your feet &amp; soon!!                                  |rt doc pl hang in there sending you positive vibes need you back on your feet amp soon                                         |0.11363637     |positive |\n",
            "|J&amp;J COVID-19 vaccine moderately effective, less against SA variant \n",
            " ... #coronavirus #coronavirus_vaccine… https://t.co/uOIPuVewgL         |J&amp;J COVID-19 vaccine moderately effective, less against SA variant \n",
            " ... #coronavirus #coronavirus_vaccine https://t.co/uOIPuVewgL         |amp covid vaccine moderately effective less against sa variant coronavirus coronavirus vaccine                                 |0.21666667     |positive |\n",
            "|RT @sankul333: Never forget: India willingly gave vaccines to half the world while its own citizens are begging for vaccine now. States lik…    |RT @sankul333: Never forget: India willingly gave vaccines to half the world while its own citizens are begging for vaccine now. States lik    |rt never forget india willingly gave vaccines to half the world while its own citizens are begging for vaccine now states lik  |0.22777778     |positive |\n",
            "|RT @NathanFrancis__: 🌍 David Remnick: ‘There is no vaccine for #climatechange’\n",
            "\n",
            "The @NewYorker editor on #FragileEarth, a new collection of…   |RT @NathanFrancis__:  David Remnick: There is no vaccine for #climatechange\n",
            "\n",
            "The @NewYorker editor on #FragileEarth, a new collection of       |rt david remnick there is no vaccine for climatechange the editor on fragileearth new collection of                            |0.13636364     |positive |\n",
            "|RT @FaceTheNation: France's Emmanuel Macron says wealthy nations must send \"maximum doses of vaccine\" to Africa and Latin America for healt…    |RT @FaceTheNation: France's Emmanuel Macron says wealthy nations must send \"maximum doses of vaccine\" to Africa and Latin America for healt    |rt france emmanuel macron says wealthy nations must send maximum doses of vaccine to africa and latin america for healt        |0.5            |positive |\n",
            "|RT @pclarion: The state has about $37.5 million available for the program and is requiring 10% of the funds from each grant to be used to a…    |RT @pclarion: The state has about $37.5 million available for the program and is requiring 10% of the funds from each grant to be used to a    |rt the state has about million available for the program and is requiring of the funds from each grant to be used to           |0.4            |positive |\n",
            "|RT @MeidasTouch: More than 200 million vaccine doses have been administered in under 90 days. That’s more than double President Biden’s ini…    |RT @MeidasTouch: More than 200 million vaccine doses have been administered in under 90 days. Thats more than double President Bidens ini      |rt more than million vaccine doses have been administered in under days thats more than double president bidens ini            |0.33333334     |positive |\n",
            "|RT @mookjuice: Why are side effects for a vaccine ok but not hydroxychloroquine?                                                                |RT @mookjuice: Why are side effects for a vaccine ok but not hydroxychloroquine?                                                               |rt why are side effects for vaccine ok but not hydroxychloroquine                                                              |0.5            |positive |\n",
            "|RT @kaaawababy: @MGuru2020 @aetiology @NIH This is what I think too. It will be interesting to see if similar issues happened with the Ebol…    |RT @kaaawababy: @MGuru2020 @aetiology @NIH This is what I think too. It will be interesting to see if similar issues happened with the Ebol    |rt this is what think too it will be interesting to see if similar issues happened with the ebol                               |0.25           |positive |\n",
            "|RT @Kate_in_Guelph: I've said it before - I would take the AZ vaccine right this minute if I (a 40-something) was eligible. My arm (and eve…    |RT @Kate_in_Guelph: I've said it before - I would take the AZ vaccine right this minute if I (a 40-something) was eligible. My arm (and eve    |rt ve said it before would take the az vaccine right this minute if something was eligible my arm and eve                      |0.2857143      |positive |\n",
            "|Are you a CMU student, faculty or staff member interested in getting the vaccine? Join us on Monday, April 19.\n",
            "\n",
            "Che… https://t.co/XXk94MZbZt    |Are you a CMU student, faculty or staff member interested in getting the vaccine? Join us on Monday, April 19.\n",
            "\n",
            "Che https://t.co/XXk94MZbZt    |are you cmu student faculty or staff member interested in getting the vaccine join us on monday april che                      |0.25           |positive |\n",
            "|RT @DitchettsDevon: @Keir_Starmer Perhaps better off spending your time on this:\n",
            "https://t.co/zkEZBGxqPz                                        |RT @DitchettsDevon: @Keir_Starmer Perhaps better off spending your time on this:\n",
            "https://t.co/zkEZBGxqPz                                       |rt perhaps better off spending your time on this                                                                               |0.5            |positive |\n",
            "+------------------------------------------------------------------------------------------------------------------------------------------------+-----------------------------------------------------------------------------------------------------------------------------------------------+-------------------------------------------------------------------------------------------------------------------------------+---------------+---------+\n",
            "only showing top 20 rows\n",
            "\n"
          ],
          "name": "stdout"
        }
      ]
    }
  ]
}